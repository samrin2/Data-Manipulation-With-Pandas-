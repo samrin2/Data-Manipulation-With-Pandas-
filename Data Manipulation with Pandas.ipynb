{
 "cells": [
  {
   "cell_type": "code",
   "execution_count": 5,
   "id": "cb877002-db5e-4ec9-8074-1c7af66bd439",
   "metadata": {},
   "outputs": [
    {
     "name": "stdout",
     "output_type": "stream",
     "text": [
      "Requirement already satisfied: pandas in c:\\users\\samrin\\appdata\\roaming\\python\\python311\\site-packages (2.2.1)\n",
      "Requirement already satisfied: numpy<2,>=1.23.2 in c:\\users\\samrin\\appdata\\roaming\\python\\python311\\site-packages (from pandas) (1.26.4)\n",
      "Requirement already satisfied: python-dateutil>=2.8.2 in c:\\users\\samrin\\appdata\\roaming\\python\\python311\\site-packages (from pandas) (2.9.0.post0)\n",
      "Requirement already satisfied: pytz>=2020.1 in c:\\users\\samrin\\appdata\\roaming\\python\\python311\\site-packages (from pandas) (2024.1)\n",
      "Requirement already satisfied: tzdata>=2022.7 in c:\\users\\samrin\\appdata\\roaming\\python\\python311\\site-packages (from pandas) (2024.1)\n",
      "Requirement already satisfied: six>=1.5 in c:\\users\\samrin\\appdata\\roaming\\python\\python311\\site-packages (from python-dateutil>=2.8.2->pandas) (1.16.0)\n"
     ]
    },
    {
     "name": "stderr",
     "output_type": "stream",
     "text": [
      "\n",
      "[notice] A new release of pip is available: 24.0 -> 24.1.1\n",
      "[notice] To update, run: python.exe -m pip install --upgrade pip\n"
     ]
    }
   ],
   "source": [
    "!pip install pandas "
   ]
  },
  {
   "cell_type": "code",
   "execution_count": 6,
   "id": "6a9567c5-1f43-4641-8b7b-7ec1f64a25ab",
   "metadata": {},
   "outputs": [],
   "source": [
    "import pandas as pd\n",
    "\n",
    "#Load CSV file into a Dataframe\n",
    "file_path = r'C:\\Users\\SAMRIN\\Downloads\\01.Data Cleaning and Preprocessing.csv'\n",
    "df = pd.read_csv(r'C:\\Users\\SAMRIN\\Downloads\\01.Data Cleaning and Preprocessing.csv')"
   ]
  },
  {
   "cell_type": "code",
   "execution_count": 7,
   "id": "2381bfb2-c957-4047-bff4-162733e6023c",
   "metadata": {},
   "outputs": [
    {
     "name": "stdout",
     "output_type": "stream",
     "text": [
      "First few rows of the Dataframes:\n",
      "  Observation  Y-Kappa  ChipRate  BF-CMratio  BlowFlow  ChipLevel4   \\\n",
      "0    31-00:00    23.10    16.520     121.717  1177.607      169.805   \n",
      "1    31-01:00    27.60    16.810      79.022  1328.360      341.327   \n",
      "2    31-02:00    23.19    16.709      79.562  1329.407      239.161   \n",
      "3    31-03:00    23.60    16.478      81.011  1334.877      213.527   \n",
      "4    31-04:00    22.90    15.618      93.244  1334.168      243.131   \n",
      "\n",
      "   T-upperExt-2   T-lowerExt-2    UCZAA  WhiteFlow-4   ...  SteamFlow-4   \\\n",
      "0        358.282         329.545  1.443       599.253  ...        67.122   \n",
      "1        351.050         329.067  1.549       537.201  ...        60.012   \n",
      "2        350.022         329.260  1.600       549.611  ...        61.304   \n",
      "3        350.938         331.142  1.604       623.362  ...        68.496   \n",
      "4        351.640         332.709    NaN       638.672  ...        70.022   \n",
      "\n",
      "   Lower-HeatT-3  Upper-HeatT-3   ChipMass-4   WeakLiquorF   BlackFlow-2   \\\n",
      "0        329.432         303.099      175.964      1127.197      1319.039   \n",
      "1        330.823         304.879      163.202       665.975      1297.317   \n",
      "2        329.140         303.383      164.013       677.534      1327.072   \n",
      "3        328.875         302.254      181.487       767.853      1324.461   \n",
      "4        328.352         300.954      183.929       888.448      1343.424   \n",
      "\n",
      "   WeakWashF   SteamHeatF-3   T-Top-Chips-4   SulphidityL-4   \n",
      "0     257.325         54.612         252.077             NaN  \n",
      "1     241.182         46.603         251.406           29.11  \n",
      "2     237.272         51.795         251.335             NaN  \n",
      "3     239.478         54.846         250.312           29.02  \n",
      "4     215.372         54.186         249.916           29.01  \n",
      "\n",
      "[5 rows x 23 columns]\n"
     ]
    }
   ],
   "source": [
    "#Display the first rows of the Dataframe\n",
    "print(\"First few rows of the Dataframes:\")\n",
    "print(df.head())\n"
   ]
  },
  {
   "cell_type": "code",
   "execution_count": 12,
   "id": "64f082b4-e7bc-4c73-bed0-c94b9b29f057",
   "metadata": {},
   "outputs": [
    {
     "name": "stdout",
     "output_type": "stream",
     "text": [
      "\n",
      "Column names in the DataFrame:\n",
      "Index(['Observation', 'Y-Kappa', 'ChipRate', 'BF-CMratio', 'BlowFlow',\n",
      "       'ChipLevel4 ', 'T-upperExt-2 ', 'T-lowerExt-2  ', 'UCZAA',\n",
      "       'WhiteFlow-4 ', 'AAWhiteSt-4 ', 'AA-Wood-4  ', 'ChipMoisture-4 ',\n",
      "       'SteamFlow-4 ', 'Lower-HeatT-3', 'Upper-HeatT-3 ', 'ChipMass-4 ',\n",
      "       'WeakLiquorF ', 'BlackFlow-2 ', 'WeakWashF ', 'SteamHeatF-3 ',\n",
      "       'T-Top-Chips-4 ', 'SulphidityL-4 '],\n",
      "      dtype='object')\n"
     ]
    }
   ],
   "source": [
    " # Display the column names of the DataFrame\n",
    "\n",
    "print(\"\\nColumn names in the DataFrame:\")\n",
    "print(df.columns)\n"
   ]
  },
  {
   "cell_type": "code",
   "execution_count": 13,
   "id": "1508ee0c-f04e-421e-8c45-1a58f722d220",
   "metadata": {},
   "outputs": [
    {
     "name": "stdout",
     "output_type": "stream",
     "text": [
      "\n",
      "Filtered DataFrame where Y-Kappa > 25:\n",
      "    Observation  Y-Kappa  ChipRate  BF-CMratio  BlowFlow  ChipLevel4   \\\n",
      "1      31-01:00    27.60    16.810      79.022  1328.360      341.327   \n",
      "12     31-11:00    26.62    15.467      84.447  1334.255      386.971   \n",
      "13     31-12:00    27.20    16.083      82.839  1332.331      366.855   \n",
      "15     31-14:00    25.40    16.425      72.924  1197.775      118.821   \n",
      "40      1-15:00    27.10    13.558      83.117  1175.417      289.256   \n",
      "64      2-15:00    25.40    16.958      74.405  1230.776      295.522   \n",
      "80      3-07:00    26.50    16.300      75.411  1229.199      358.256   \n",
      "121     5-00:00    25.56    14.900      84.953  1289.167      373.726   \n",
      "123     5-02:00    25.30    15.225      82.030  1280.837      312.879   \n",
      "151     6-06:00    26.02    15.800      79.293  1291.149      271.419   \n",
      "167     6-22:00    25.10    15.075      80.024  1281.051      343.214   \n",
      "168     6-23:00    25.52    16.008      77.070  1285.782      338.656   \n",
      "179     7-10:00    25.41    13.070         NaN       NaN      278.166   \n",
      "193     8-00:00    26.10    15.083      78.098  1168.219      233.376   \n",
      "239     9-22:00    25.75    13.417      85.451  1186.342      248.312   \n",
      "303    31-01:00    27.60    16.810      79.022  1328.360      341.327   \n",
      "313    31-11:00    26.62    15.467      84.447  1334.255      386.971   \n",
      "323     9-22:00    25.75    13.417      85.451  1186.342      248.312   \n",
      "\n",
      "     T-upperExt-2   T-lowerExt-2    UCZAA  WhiteFlow-4   ...  SteamFlow-4   \\\n",
      "1          351.050         329.067  1.549       537.201  ...        60.012   \n",
      "12         349.392         321.021  1.428       531.250  ...        59.407   \n",
      "13         350.094         327.439  1.486       527.893  ...        60.271   \n",
      "15         350.765         329.799  1.635       585.011  ...        65.474   \n",
      "40         339.168         318.386  1.360       480.184  ...        48.568   \n",
      "64         350.216         322.740  1.471       540.151  ...        52.962   \n",
      "80         352.871         325.690  1.416       531.174  ...        59.183   \n",
      "121        358.028         326.809  1.265       568.074  ...        63.684   \n",
      "123        358.944         327.582  1.335       615.580  ...        72.743   \n",
      "151        355.922         323.014  1.623       537.862  ...        60.490   \n",
      "167        354.905         325.323  1.377       618.276  ...        59.783   \n",
      "168        355.149         325.669  1.462       619.954  ...        63.048   \n",
      "179        351.172         322.353  1.224       542.846  ...        53.461   \n",
      "193        366.604         332.953  1.534       524.180  ...        59.971   \n",
      "239        356.289         310.482  1.474       497.375  ...        58.247   \n",
      "303        351.050         329.067  1.549       537.201  ...        60.012   \n",
      "313        349.392         321.021  1.428       531.250  ...        59.407   \n",
      "323        356.289         310.482  1.474       497.375  ...        58.247   \n",
      "\n",
      "     Lower-HeatT-3  Upper-HeatT-3   ChipMass-4   WeakLiquorF   BlackFlow-2   \\\n",
      "1          330.823         304.879      163.202       665.975      1297.317   \n",
      "12         330.284         303.248      156.797       799.947      1299.782   \n",
      "13         330.023         302.883      160.562       771.158      1299.974   \n",
      "15         329.773         302.884      175.646       756.154      1300.037   \n",
      "40         318.228         294.850      131.537       744.659       996.046   \n",
      "64         318.913         295.843      146.914       727.366      1052.879   \n",
      "80         319.990         296.154      149.077       701.273      1026.333   \n",
      "121        320.797         296.457      147.131       860.372      1014.646   \n",
      "123        321.206         296.893      164.746       965.018      1043.596   \n",
      "151        320.845         293.856      141.382      1099.121      1128.464   \n",
      "167        320.077         295.551      157.611       901.062      1069.602   \n",
      "168        320.280         295.959      158.476       878.072      1069.102   \n",
      "179        318.711         295.300      141.076       863.891      1091.979   \n",
      "193        327.433         298.459      143.328       797.404      1176.439   \n",
      "239        328.092         304.093      144.218       828.328      1320.848   \n",
      "303        330.823         304.879      163.202       665.975      1297.317   \n",
      "313        330.284         303.248      156.797       799.947      1299.782   \n",
      "323        328.092         304.093      144.218       828.328      1320.848   \n",
      "\n",
      "     WeakWashF   SteamHeatF-3   T-Top-Chips-4   SulphidityL-4   \n",
      "1       241.182         46.603         251.406          29.110  \n",
      "12      118.901         46.597         251.721             NaN  \n",
      "13      153.647         47.175         251.767          30.180  \n",
      "15      401.418         54.628         251.009          30.410  \n",
      "40      118.899         41.985         253.450             NaN  \n",
      "64      476.150         43.701         252.097             NaN  \n",
      "80      259.773         42.596         250.775          31.910  \n",
      "121     149.973         43.781         252.652          31.796  \n",
      "123     213.414         49.987         251.192          30.595  \n",
      "151     220.444         45.761         251.543             NaN  \n",
      "167     309.348         46.209         250.821          30.370  \n",
      "168     264.774         46.030         250.724             NaN  \n",
      "179      43.288         48.221         252.042          30.180  \n",
      "193     497.742         46.377         250.287             NaN  \n",
      "239       1.276         43.840         253.216             NaN  \n",
      "303     241.182         46.603         251.406          29.110  \n",
      "313     118.901         46.597         251.721             NaN  \n",
      "323       1.276         43.840         253.216             NaN  \n",
      "\n",
      "[18 rows x 23 columns]\n"
     ]
    }
   ],
   "source": [
    " # Filter data based on conditions\n",
    "    # Example: Filter rows where a specific column (e.g., 'Y-Kappa') is greater than a value (e.g., 25)\n",
    "    # Replace 'Y-Kappa' with the actual column name we want to filter by\n",
    "\n",
    " if 'Y-Kappa' in df.columns:\n",
    "        filtered_df = df[df['Y-Kappa'] > 25]\n",
    "        print(\"\\nFiltered DataFrame where Y-Kappa > 25:\")\n",
    "        print(filtered_df)\n"
   ]
  },
  {
   "cell_type": "code",
   "execution_count": 20,
   "id": "7d0a8396-1567-4712-b689-0337104a08f0",
   "metadata": {},
   "outputs": [
    {
     "name": "stdout",
     "output_type": "stream",
     "text": [
      "\n",
      "Summary statistics of the DataFrame:\n",
      "          Y-Kappa    ChipRate  BF-CMratio     BlowFlow  ChipLevel4   \\\n",
      "count  324.000000  319.000000  307.000000   308.000000   323.000000   \n",
      "mean    20.635370   14.347937   87.464456  1237.837614   258.164483   \n",
      "std      3.070036    1.499095    7.995012   100.593735    87.987452   \n",
      "min     12.170000    9.983000   68.645000     0.000000     0.000000   \n",
      "25%     18.382500   13.358000   81.823000  1193.215250   213.527000   \n",
      "50%     20.845000   14.308000   86.739000  1273.138500   271.792000   \n",
      "75%     23.032500   15.517000   92.372000  1289.196000   321.680000   \n",
      "max     27.600000   16.958000  121.717000  1351.240000   419.014000   \n",
      "\n",
      "       T-upperExt-2   T-lowerExt-2         UCZAA  WhiteFlow-4   AAWhiteSt-4   \\\n",
      "count     322.000000      322.000000  299.000000    323.000000    173.000000   \n",
      "mean      356.904295      324.020180    1.492010    591.732260      6.140410   \n",
      "std         9.209290        7.621402    0.105923     67.016351      0.081609   \n",
      "min       339.168000      284.633000    1.182000    405.111000      5.890000   \n",
      "25%       350.241250      321.420000    1.431500    540.989500      6.089000   \n",
      "50%       356.843000      325.669000    1.498000    592.895000      6.135000   \n",
      "75%       362.242250      329.175000    1.560500    639.480500      6.199000   \n",
      "max       399.135000      337.012000    1.747000    731.394000      6.340000   \n",
      "\n",
      "       ...  SteamFlow-4   Lower-HeatT-3  Upper-HeatT-3   ChipMass-4   \\\n",
      "count  ...    323.000000     322.000000      322.000000   323.000000   \n",
      "mean   ...     66.668285     325.567820      300.525699   162.222322   \n",
      "std    ...      5.708587       4.609862        4.568484    14.160688   \n",
      "min    ...     48.568000     318.051000      293.312000   113.922000   \n",
      "25%    ...     62.518000     321.385500      296.513250   153.032500   \n",
      "50%    ...     67.429000     324.741000      299.126000   163.690000   \n",
      "75%    ...     71.522000     329.845250      304.244750   172.555000   \n",
      "max    ...     76.147000     333.854000      311.146000   189.268000   \n",
      "\n",
      "       WeakLiquorF   BlackFlow-2   WeakWashF   SteamHeatF-3   T-Top-Chips-4   \\\n",
      "count    323.000000    322.000000  323.000000     322.000000      323.000000   \n",
      "mean     873.828941   1175.917016  263.543068      49.696907      251.240087   \n",
      "std      122.073521    149.334010  163.666942       4.551909        1.283432   \n",
      "min      486.938000    838.948000    0.000000      35.510000      248.359000   \n",
      "25%      792.019500   1044.817500  134.649000      46.389750      250.312000   \n",
      "50%      865.254000   1150.221500  269.193000      50.277000      251.380000   \n",
      "75%      965.286500   1319.021250  405.563000      53.294250      252.323500   \n",
      "max     1226.277000   1395.767000  715.715000      63.332000      254.122000   \n",
      "\n",
      "       SulphidityL-4   \n",
      "count      173.000000  \n",
      "mean        30.411671  \n",
      "std          0.701317  \n",
      "min         29.010000  \n",
      "25%         29.970000  \n",
      "50%         30.370000  \n",
      "75%         30.820000  \n",
      "max         32.840000  \n",
      "\n",
      "[8 rows x 22 columns]\n"
     ]
    }
   ],
   "source": [
    " # Assuming 'df' is your DataFrame and you're trying to compute summary statistics\n",
    "summary_stats = df.describe()\n",
    "print(\"\\nSummary statistics of the DataFrame:\")\n",
    "print(summary_stats)"
   ]
  },
  {
   "cell_type": "code",
   "execution_count": 21,
   "id": "57e68fa6-2de2-4aeb-87bf-d64ccc1f0243",
   "metadata": {},
   "outputs": [
    {
     "ename": "TypeError",
     "evalue": "Could not convert ['31-00:0031-01:0031-02:0031-03:0031-04:001-08:001-09:0031-06:0031-07:0031-08:0031-09:0031-10:0031-11:0031-12:0031-13:0031-14:0031-15:0031-16:0031-17:0031-18:0031-19:0031-20:0031-21:0031-22:0031-23:001-00:001-01:001-02:001-03:001-04:001-05:001-06:001-07:001-08:001-09:001-10:001-11:001-12:001-13:001-14:001-15:001-16:001-17:001-18:001-19:001-20:001-21:001-22:001-23:002-00:002-01:002-02:002-03:002-04:002-05:002-06:002-07:002-08:002-09:002-10:002-11:002-12:002-13:002-14:002-15:002-16:002-17:002-18:002-19:002-20:002-21:002-22:002-23:003-00:003-01:003-02:003-03:003-04:003-05:003-06:003-07:003-08:003-09:003-10:003-11:003-12:003-13:003-14:003-15:003-16:003-17:003-18:003-19:003-20:003-21:003-22:003-23:004-00:004-01:004-02:004-03:004-04:004-05:004-06:004-07:004-08:004-09:004-10:004-11:004-12:004-13:004-14:004-15:004-16:004-17:004-18:004-19:004-20:004-21:004-22:004-23:005-00:005-01:005-02:005-03:005-04:005-05:005-06:005-07:005-08:005-09:005-10:005-11:005-12:005-13:005-14:005-15:005-16:005-17:005-18:005-19:005-20:005-21:005-22:005-23:006-00:006-01:006-02:006-03:006-04:006-05:006-06:006-07:006-08:006-09:006-10:006-11:006-12:006-13:006-14:006-15:006-16:006-17:006-18:006-19:006-20:006-21:006-22:006-23:007-00:007-01:007-02:007-03:007-04:007-05:007-06:007-07:007-08:007-09:007-10:007-11:007-12:007-13:007-14:007-15:007-16:007-17:007-18:007-19:007-20:007-21:007-22:007-23:008-00:008-01:008-02:008-03:008-04:008-05:008-06:008-07:008-08:008-09:008-10:008-11:008-12:008-13:008-14:008-15:008-16:008-17:008-18:008-19:008-20:008-21:008-22:008-23:009-00:009-01:009-02:009-03:009-04:009-05:009-06:009-07:009-08:009-09:009-10:009-11:009-12:009-13:009-14:009-15:009-16:009-17:009-18:009-19:009-20:009-21:009-22:009-23:0010-00:0010-01:0010-02:0010-03:0010-04:0010-05:0010-06:0010-07:0010-08:0010-09:0010-10:0010-11:0010-12:0010-13:0010-14:0010-15:0010-16:0010-17:0010-18:0010-19:0010-20:0010-21:0010-22:0010-23:0011-00:0011-01:0011-02:0011-03:0011-04:0011-05:0011-06:0011-07:0011-08:0011-09:0011-10:0011-11:0011-12:0011-13:0011-14:0011-15:0011-16:0011-17:0011-18:0011-19:0011-20:0011-21:0011-22:0011-23:0012-00:0012-01:0012-02:0012-03:0012-04:0012-05:0012-06:0012-07:0012-08:0012-09:0012-10:0012-11:0012-12:0031-00:0031-01:0031-02:0031-03:0031-04:0031-05:0031-06:0031-07:0031-08:0031-09:0031-10:0031-11:008-13:008-14:008-15:004-16:004-17:0010-16:009-19:009-20:009-21:009-22:00'] to numeric",
     "output_type": "error",
     "traceback": [
      "\u001b[1;31m---------------------------------------------------------------------------\u001b[0m",
      "\u001b[1;31mTypeError\u001b[0m                                 Traceback (most recent call last)",
      "Cell \u001b[1;32mIn[21], line 5\u001b[0m\n\u001b[0;32m      2\u001b[0m df_filled \u001b[38;5;241m=\u001b[39m df\u001b[38;5;241m.\u001b[39mfillna(\u001b[38;5;241m0\u001b[39m)  \u001b[38;5;66;03m# Replace NaN with 0\u001b[39;00m\n\u001b[0;32m      4\u001b[0m \u001b[38;5;66;03m# Alternatively, you we can fill with a method like filling with the mean\u001b[39;00m\n\u001b[1;32m----> 5\u001b[0m df_filled \u001b[38;5;241m=\u001b[39m df\u001b[38;5;241m.\u001b[39mfillna(df\u001b[38;5;241m.\u001b[39mmean())  \u001b[38;5;66;03m# Replace NaN with mean of each column\u001b[39;00m\n\u001b[0;32m      7\u001b[0m \u001b[38;5;66;03m# You can also specify forward filling (ffill) or backward filling (bfill)\u001b[39;00m\n\u001b[0;32m      8\u001b[0m df_filled \u001b[38;5;241m=\u001b[39m df\u001b[38;5;241m.\u001b[39mfillna(method\u001b[38;5;241m=\u001b[39m\u001b[38;5;124m'\u001b[39m\u001b[38;5;124mffill\u001b[39m\u001b[38;5;124m'\u001b[39m)  \u001b[38;5;66;03m# Forward fill NaN values\u001b[39;00m\n",
      "File \u001b[1;32m~\\AppData\\Roaming\\Python\\Python311\\site-packages\\pandas\\core\\frame.py:11680\u001b[0m, in \u001b[0;36mDataFrame.mean\u001b[1;34m(self, axis, skipna, numeric_only, **kwargs)\u001b[0m\n\u001b[0;32m  11672\u001b[0m \u001b[38;5;129m@doc\u001b[39m(make_doc(\u001b[38;5;124m\"\u001b[39m\u001b[38;5;124mmean\u001b[39m\u001b[38;5;124m\"\u001b[39m, ndim\u001b[38;5;241m=\u001b[39m\u001b[38;5;241m2\u001b[39m))\n\u001b[0;32m  11673\u001b[0m \u001b[38;5;28;01mdef\u001b[39;00m \u001b[38;5;21mmean\u001b[39m(\n\u001b[0;32m  11674\u001b[0m     \u001b[38;5;28mself\u001b[39m,\n\u001b[1;32m   (...)\u001b[0m\n\u001b[0;32m  11678\u001b[0m     \u001b[38;5;241m*\u001b[39m\u001b[38;5;241m*\u001b[39mkwargs,\n\u001b[0;32m  11679\u001b[0m ):\n\u001b[1;32m> 11680\u001b[0m     result \u001b[38;5;241m=\u001b[39m \u001b[38;5;28msuper\u001b[39m()\u001b[38;5;241m.\u001b[39mmean(axis, skipna, numeric_only, \u001b[38;5;241m*\u001b[39m\u001b[38;5;241m*\u001b[39mkwargs)\n\u001b[0;32m  11681\u001b[0m     \u001b[38;5;28;01mif\u001b[39;00m \u001b[38;5;28misinstance\u001b[39m(result, Series):\n\u001b[0;32m  11682\u001b[0m         result \u001b[38;5;241m=\u001b[39m result\u001b[38;5;241m.\u001b[39m__finalize__(\u001b[38;5;28mself\u001b[39m, method\u001b[38;5;241m=\u001b[39m\u001b[38;5;124m\"\u001b[39m\u001b[38;5;124mmean\u001b[39m\u001b[38;5;124m\"\u001b[39m)\n",
      "File \u001b[1;32m~\\AppData\\Roaming\\Python\\Python311\\site-packages\\pandas\\core\\generic.py:12417\u001b[0m, in \u001b[0;36mNDFrame.mean\u001b[1;34m(self, axis, skipna, numeric_only, **kwargs)\u001b[0m\n\u001b[0;32m  12410\u001b[0m \u001b[38;5;28;01mdef\u001b[39;00m \u001b[38;5;21mmean\u001b[39m(\n\u001b[0;32m  12411\u001b[0m     \u001b[38;5;28mself\u001b[39m,\n\u001b[0;32m  12412\u001b[0m     axis: Axis \u001b[38;5;241m|\u001b[39m \u001b[38;5;28;01mNone\u001b[39;00m \u001b[38;5;241m=\u001b[39m \u001b[38;5;241m0\u001b[39m,\n\u001b[1;32m   (...)\u001b[0m\n\u001b[0;32m  12415\u001b[0m     \u001b[38;5;241m*\u001b[39m\u001b[38;5;241m*\u001b[39mkwargs,\n\u001b[0;32m  12416\u001b[0m ) \u001b[38;5;241m-\u001b[39m\u001b[38;5;241m>\u001b[39m Series \u001b[38;5;241m|\u001b[39m \u001b[38;5;28mfloat\u001b[39m:\n\u001b[1;32m> 12417\u001b[0m     \u001b[38;5;28;01mreturn\u001b[39;00m \u001b[38;5;28mself\u001b[39m\u001b[38;5;241m.\u001b[39m_stat_function(\n\u001b[0;32m  12418\u001b[0m         \u001b[38;5;124m\"\u001b[39m\u001b[38;5;124mmean\u001b[39m\u001b[38;5;124m\"\u001b[39m, nanops\u001b[38;5;241m.\u001b[39mnanmean, axis, skipna, numeric_only, \u001b[38;5;241m*\u001b[39m\u001b[38;5;241m*\u001b[39mkwargs\n\u001b[0;32m  12419\u001b[0m     )\n",
      "File \u001b[1;32m~\\AppData\\Roaming\\Python\\Python311\\site-packages\\pandas\\core\\generic.py:12374\u001b[0m, in \u001b[0;36mNDFrame._stat_function\u001b[1;34m(self, name, func, axis, skipna, numeric_only, **kwargs)\u001b[0m\n\u001b[0;32m  12370\u001b[0m nv\u001b[38;5;241m.\u001b[39mvalidate_func(name, (), kwargs)\n\u001b[0;32m  12372\u001b[0m validate_bool_kwarg(skipna, \u001b[38;5;124m\"\u001b[39m\u001b[38;5;124mskipna\u001b[39m\u001b[38;5;124m\"\u001b[39m, none_allowed\u001b[38;5;241m=\u001b[39m\u001b[38;5;28;01mFalse\u001b[39;00m)\n\u001b[1;32m> 12374\u001b[0m \u001b[38;5;28;01mreturn\u001b[39;00m \u001b[38;5;28mself\u001b[39m\u001b[38;5;241m.\u001b[39m_reduce(\n\u001b[0;32m  12375\u001b[0m     func, name\u001b[38;5;241m=\u001b[39mname, axis\u001b[38;5;241m=\u001b[39maxis, skipna\u001b[38;5;241m=\u001b[39mskipna, numeric_only\u001b[38;5;241m=\u001b[39mnumeric_only\n\u001b[0;32m  12376\u001b[0m )\n",
      "File \u001b[1;32m~\\AppData\\Roaming\\Python\\Python311\\site-packages\\pandas\\core\\frame.py:11549\u001b[0m, in \u001b[0;36mDataFrame._reduce\u001b[1;34m(self, op, name, axis, skipna, numeric_only, filter_type, **kwds)\u001b[0m\n\u001b[0;32m  11545\u001b[0m     df \u001b[38;5;241m=\u001b[39m df\u001b[38;5;241m.\u001b[39mT\n\u001b[0;32m  11547\u001b[0m \u001b[38;5;66;03m# After possibly _get_data and transposing, we are now in the\u001b[39;00m\n\u001b[0;32m  11548\u001b[0m \u001b[38;5;66;03m#  simple case where we can use BlockManager.reduce\u001b[39;00m\n\u001b[1;32m> 11549\u001b[0m res \u001b[38;5;241m=\u001b[39m df\u001b[38;5;241m.\u001b[39m_mgr\u001b[38;5;241m.\u001b[39mreduce(blk_func)\n\u001b[0;32m  11550\u001b[0m out \u001b[38;5;241m=\u001b[39m df\u001b[38;5;241m.\u001b[39m_constructor_from_mgr(res, axes\u001b[38;5;241m=\u001b[39mres\u001b[38;5;241m.\u001b[39maxes)\u001b[38;5;241m.\u001b[39miloc[\u001b[38;5;241m0\u001b[39m]\n\u001b[0;32m  11551\u001b[0m \u001b[38;5;28;01mif\u001b[39;00m out_dtype \u001b[38;5;129;01mis\u001b[39;00m \u001b[38;5;129;01mnot\u001b[39;00m \u001b[38;5;28;01mNone\u001b[39;00m \u001b[38;5;129;01mand\u001b[39;00m out\u001b[38;5;241m.\u001b[39mdtype \u001b[38;5;241m!=\u001b[39m \u001b[38;5;124m\"\u001b[39m\u001b[38;5;124mboolean\u001b[39m\u001b[38;5;124m\"\u001b[39m:\n",
      "File \u001b[1;32m~\\AppData\\Roaming\\Python\\Python311\\site-packages\\pandas\\core\\internals\\managers.py:1500\u001b[0m, in \u001b[0;36mBlockManager.reduce\u001b[1;34m(self, func)\u001b[0m\n\u001b[0;32m   1498\u001b[0m res_blocks: \u001b[38;5;28mlist\u001b[39m[Block] \u001b[38;5;241m=\u001b[39m []\n\u001b[0;32m   1499\u001b[0m \u001b[38;5;28;01mfor\u001b[39;00m blk \u001b[38;5;129;01min\u001b[39;00m \u001b[38;5;28mself\u001b[39m\u001b[38;5;241m.\u001b[39mblocks:\n\u001b[1;32m-> 1500\u001b[0m     nbs \u001b[38;5;241m=\u001b[39m blk\u001b[38;5;241m.\u001b[39mreduce(func)\n\u001b[0;32m   1501\u001b[0m     res_blocks\u001b[38;5;241m.\u001b[39mextend(nbs)\n\u001b[0;32m   1503\u001b[0m index \u001b[38;5;241m=\u001b[39m Index([\u001b[38;5;28;01mNone\u001b[39;00m])  \u001b[38;5;66;03m# placeholder\u001b[39;00m\n",
      "File \u001b[1;32m~\\AppData\\Roaming\\Python\\Python311\\site-packages\\pandas\\core\\internals\\blocks.py:404\u001b[0m, in \u001b[0;36mBlock.reduce\u001b[1;34m(self, func)\u001b[0m\n\u001b[0;32m    398\u001b[0m \u001b[38;5;129m@final\u001b[39m\n\u001b[0;32m    399\u001b[0m \u001b[38;5;28;01mdef\u001b[39;00m \u001b[38;5;21mreduce\u001b[39m(\u001b[38;5;28mself\u001b[39m, func) \u001b[38;5;241m-\u001b[39m\u001b[38;5;241m>\u001b[39m \u001b[38;5;28mlist\u001b[39m[Block]:\n\u001b[0;32m    400\u001b[0m     \u001b[38;5;66;03m# We will apply the function and reshape the result into a single-row\u001b[39;00m\n\u001b[0;32m    401\u001b[0m     \u001b[38;5;66;03m#  Block with the same mgr_locs; squeezing will be done at a higher level\u001b[39;00m\n\u001b[0;32m    402\u001b[0m     \u001b[38;5;28;01massert\u001b[39;00m \u001b[38;5;28mself\u001b[39m\u001b[38;5;241m.\u001b[39mndim \u001b[38;5;241m==\u001b[39m \u001b[38;5;241m2\u001b[39m\n\u001b[1;32m--> 404\u001b[0m     result \u001b[38;5;241m=\u001b[39m func(\u001b[38;5;28mself\u001b[39m\u001b[38;5;241m.\u001b[39mvalues)\n\u001b[0;32m    406\u001b[0m     \u001b[38;5;28;01mif\u001b[39;00m \u001b[38;5;28mself\u001b[39m\u001b[38;5;241m.\u001b[39mvalues\u001b[38;5;241m.\u001b[39mndim \u001b[38;5;241m==\u001b[39m \u001b[38;5;241m1\u001b[39m:\n\u001b[0;32m    407\u001b[0m         res_values \u001b[38;5;241m=\u001b[39m result\n",
      "File \u001b[1;32m~\\AppData\\Roaming\\Python\\Python311\\site-packages\\pandas\\core\\frame.py:11468\u001b[0m, in \u001b[0;36mDataFrame._reduce.<locals>.blk_func\u001b[1;34m(values, axis)\u001b[0m\n\u001b[0;32m  11466\u001b[0m         \u001b[38;5;28;01mreturn\u001b[39;00m np\u001b[38;5;241m.\u001b[39marray([result])\n\u001b[0;32m  11467\u001b[0m \u001b[38;5;28;01melse\u001b[39;00m:\n\u001b[1;32m> 11468\u001b[0m     \u001b[38;5;28;01mreturn\u001b[39;00m op(values, axis\u001b[38;5;241m=\u001b[39maxis, skipna\u001b[38;5;241m=\u001b[39mskipna, \u001b[38;5;241m*\u001b[39m\u001b[38;5;241m*\u001b[39mkwds)\n",
      "File \u001b[1;32m~\\AppData\\Roaming\\Python\\Python311\\site-packages\\pandas\\core\\nanops.py:147\u001b[0m, in \u001b[0;36mbottleneck_switch.__call__.<locals>.f\u001b[1;34m(values, axis, skipna, **kwds)\u001b[0m\n\u001b[0;32m    145\u001b[0m         result \u001b[38;5;241m=\u001b[39m alt(values, axis\u001b[38;5;241m=\u001b[39maxis, skipna\u001b[38;5;241m=\u001b[39mskipna, \u001b[38;5;241m*\u001b[39m\u001b[38;5;241m*\u001b[39mkwds)\n\u001b[0;32m    146\u001b[0m \u001b[38;5;28;01melse\u001b[39;00m:\n\u001b[1;32m--> 147\u001b[0m     result \u001b[38;5;241m=\u001b[39m alt(values, axis\u001b[38;5;241m=\u001b[39maxis, skipna\u001b[38;5;241m=\u001b[39mskipna, \u001b[38;5;241m*\u001b[39m\u001b[38;5;241m*\u001b[39mkwds)\n\u001b[0;32m    149\u001b[0m \u001b[38;5;28;01mreturn\u001b[39;00m result\n",
      "File \u001b[1;32m~\\AppData\\Roaming\\Python\\Python311\\site-packages\\pandas\\core\\nanops.py:404\u001b[0m, in \u001b[0;36m_datetimelike_compat.<locals>.new_func\u001b[1;34m(values, axis, skipna, mask, **kwargs)\u001b[0m\n\u001b[0;32m    401\u001b[0m \u001b[38;5;28;01mif\u001b[39;00m datetimelike \u001b[38;5;129;01mand\u001b[39;00m mask \u001b[38;5;129;01mis\u001b[39;00m \u001b[38;5;28;01mNone\u001b[39;00m:\n\u001b[0;32m    402\u001b[0m     mask \u001b[38;5;241m=\u001b[39m isna(values)\n\u001b[1;32m--> 404\u001b[0m result \u001b[38;5;241m=\u001b[39m func(values, axis\u001b[38;5;241m=\u001b[39maxis, skipna\u001b[38;5;241m=\u001b[39mskipna, mask\u001b[38;5;241m=\u001b[39mmask, \u001b[38;5;241m*\u001b[39m\u001b[38;5;241m*\u001b[39mkwargs)\n\u001b[0;32m    406\u001b[0m \u001b[38;5;28;01mif\u001b[39;00m datetimelike:\n\u001b[0;32m    407\u001b[0m     result \u001b[38;5;241m=\u001b[39m _wrap_results(result, orig_values\u001b[38;5;241m.\u001b[39mdtype, fill_value\u001b[38;5;241m=\u001b[39miNaT)\n",
      "File \u001b[1;32m~\\AppData\\Roaming\\Python\\Python311\\site-packages\\pandas\\core\\nanops.py:720\u001b[0m, in \u001b[0;36mnanmean\u001b[1;34m(values, axis, skipna, mask)\u001b[0m\n\u001b[0;32m    718\u001b[0m count \u001b[38;5;241m=\u001b[39m _get_counts(values\u001b[38;5;241m.\u001b[39mshape, mask, axis, dtype\u001b[38;5;241m=\u001b[39mdtype_count)\n\u001b[0;32m    719\u001b[0m the_sum \u001b[38;5;241m=\u001b[39m values\u001b[38;5;241m.\u001b[39msum(axis, dtype\u001b[38;5;241m=\u001b[39mdtype_sum)\n\u001b[1;32m--> 720\u001b[0m the_sum \u001b[38;5;241m=\u001b[39m _ensure_numeric(the_sum)\n\u001b[0;32m    722\u001b[0m \u001b[38;5;28;01mif\u001b[39;00m axis \u001b[38;5;129;01mis\u001b[39;00m \u001b[38;5;129;01mnot\u001b[39;00m \u001b[38;5;28;01mNone\u001b[39;00m \u001b[38;5;129;01mand\u001b[39;00m \u001b[38;5;28mgetattr\u001b[39m(the_sum, \u001b[38;5;124m\"\u001b[39m\u001b[38;5;124mndim\u001b[39m\u001b[38;5;124m\"\u001b[39m, \u001b[38;5;28;01mFalse\u001b[39;00m):\n\u001b[0;32m    723\u001b[0m     count \u001b[38;5;241m=\u001b[39m cast(np\u001b[38;5;241m.\u001b[39mndarray, count)\n",
      "File \u001b[1;32m~\\AppData\\Roaming\\Python\\Python311\\site-packages\\pandas\\core\\nanops.py:1686\u001b[0m, in \u001b[0;36m_ensure_numeric\u001b[1;34m(x)\u001b[0m\n\u001b[0;32m   1683\u001b[0m inferred \u001b[38;5;241m=\u001b[39m lib\u001b[38;5;241m.\u001b[39minfer_dtype(x)\n\u001b[0;32m   1684\u001b[0m \u001b[38;5;28;01mif\u001b[39;00m inferred \u001b[38;5;129;01min\u001b[39;00m [\u001b[38;5;124m\"\u001b[39m\u001b[38;5;124mstring\u001b[39m\u001b[38;5;124m\"\u001b[39m, \u001b[38;5;124m\"\u001b[39m\u001b[38;5;124mmixed\u001b[39m\u001b[38;5;124m\"\u001b[39m]:\n\u001b[0;32m   1685\u001b[0m     \u001b[38;5;66;03m# GH#44008, GH#36703 avoid casting e.g. strings to numeric\u001b[39;00m\n\u001b[1;32m-> 1686\u001b[0m     \u001b[38;5;28;01mraise\u001b[39;00m \u001b[38;5;167;01mTypeError\u001b[39;00m(\u001b[38;5;124mf\u001b[39m\u001b[38;5;124m\"\u001b[39m\u001b[38;5;124mCould not convert \u001b[39m\u001b[38;5;132;01m{\u001b[39;00mx\u001b[38;5;132;01m}\u001b[39;00m\u001b[38;5;124m to numeric\u001b[39m\u001b[38;5;124m\"\u001b[39m)\n\u001b[0;32m   1687\u001b[0m \u001b[38;5;28;01mtry\u001b[39;00m:\n\u001b[0;32m   1688\u001b[0m     x \u001b[38;5;241m=\u001b[39m x\u001b[38;5;241m.\u001b[39mastype(np\u001b[38;5;241m.\u001b[39mcomplex128)\n",
      "\u001b[1;31mTypeError\u001b[0m: Could not convert ['31-00:0031-01:0031-02:0031-03:0031-04:001-08:001-09:0031-06:0031-07:0031-08:0031-09:0031-10:0031-11:0031-12:0031-13:0031-14:0031-15:0031-16:0031-17:0031-18:0031-19:0031-20:0031-21:0031-22:0031-23:001-00:001-01:001-02:001-03:001-04:001-05:001-06:001-07:001-08:001-09:001-10:001-11:001-12:001-13:001-14:001-15:001-16:001-17:001-18:001-19:001-20:001-21:001-22:001-23:002-00:002-01:002-02:002-03:002-04:002-05:002-06:002-07:002-08:002-09:002-10:002-11:002-12:002-13:002-14:002-15:002-16:002-17:002-18:002-19:002-20:002-21:002-22:002-23:003-00:003-01:003-02:003-03:003-04:003-05:003-06:003-07:003-08:003-09:003-10:003-11:003-12:003-13:003-14:003-15:003-16:003-17:003-18:003-19:003-20:003-21:003-22:003-23:004-00:004-01:004-02:004-03:004-04:004-05:004-06:004-07:004-08:004-09:004-10:004-11:004-12:004-13:004-14:004-15:004-16:004-17:004-18:004-19:004-20:004-21:004-22:004-23:005-00:005-01:005-02:005-03:005-04:005-05:005-06:005-07:005-08:005-09:005-10:005-11:005-12:005-13:005-14:005-15:005-16:005-17:005-18:005-19:005-20:005-21:005-22:005-23:006-00:006-01:006-02:006-03:006-04:006-05:006-06:006-07:006-08:006-09:006-10:006-11:006-12:006-13:006-14:006-15:006-16:006-17:006-18:006-19:006-20:006-21:006-22:006-23:007-00:007-01:007-02:007-03:007-04:007-05:007-06:007-07:007-08:007-09:007-10:007-11:007-12:007-13:007-14:007-15:007-16:007-17:007-18:007-19:007-20:007-21:007-22:007-23:008-00:008-01:008-02:008-03:008-04:008-05:008-06:008-07:008-08:008-09:008-10:008-11:008-12:008-13:008-14:008-15:008-16:008-17:008-18:008-19:008-20:008-21:008-22:008-23:009-00:009-01:009-02:009-03:009-04:009-05:009-06:009-07:009-08:009-09:009-10:009-11:009-12:009-13:009-14:009-15:009-16:009-17:009-18:009-19:009-20:009-21:009-22:009-23:0010-00:0010-01:0010-02:0010-03:0010-04:0010-05:0010-06:0010-07:0010-08:0010-09:0010-10:0010-11:0010-12:0010-13:0010-14:0010-15:0010-16:0010-17:0010-18:0010-19:0010-20:0010-21:0010-22:0010-23:0011-00:0011-01:0011-02:0011-03:0011-04:0011-05:0011-06:0011-07:0011-08:0011-09:0011-10:0011-11:0011-12:0011-13:0011-14:0011-15:0011-16:0011-17:0011-18:0011-19:0011-20:0011-21:0011-22:0011-23:0012-00:0012-01:0012-02:0012-03:0012-04:0012-05:0012-06:0012-07:0012-08:0012-09:0012-10:0012-11:0012-12:0031-00:0031-01:0031-02:0031-03:0031-04:0031-05:0031-06:0031-07:0031-08:0031-09:0031-10:0031-11:008-13:008-14:008-15:004-16:004-17:0010-16:009-19:009-20:009-21:009-22:00'] to numeric"
     ]
    }
   ],
   "source": [
    "# Fill missing values with a specific value, like 0\n",
    "df_filled = df.fillna(0)  # Replace NaN with 0\n",
    "\n",
    "# Alternatively, you we can fill with a method like filling with the mean\n",
    "df_filled = df.fillna(df.mean())  # Replace NaN with mean of each column\n",
    "\n",
    "# You can also specify forward filling (ffill) or backward filling (bfill)\n",
    "df_filled = df.fillna(method='ffill')  # Forward fill NaN values\n",
    "\n",
    "# Or you can interpolate values\n",
    "df_filled = df.interpolate()  # Interpolate missing values\n",
    "\n",
    "# Print the DataFrame after filling missing values\n",
    "print(df_filled.head())"
   ]
  },
  {
   "cell_type": "code",
   "execution_count": null,
   "id": "8d4cca66-bda7-4231-a43a-69aad139ba0c",
   "metadata": {},
   "outputs": [],
   "source": []
  }
 ],
 "metadata": {
  "kernelspec": {
   "display_name": "Python 3 (ipykernel)",
   "language": "python",
   "name": "python3"
  },
  "language_info": {
   "codemirror_mode": {
    "name": "ipython",
    "version": 3
   },
   "file_extension": ".py",
   "mimetype": "text/x-python",
   "name": "python",
   "nbconvert_exporter": "python",
   "pygments_lexer": "ipython3",
   "version": "3.11.7"
  }
 },
 "nbformat": 4,
 "nbformat_minor": 5
}
